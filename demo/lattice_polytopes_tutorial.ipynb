{
 "cells": [
  {
   "cell_type": "markdown",
   "metadata": {},
   "source": [
    "# Tutorial for Lattice Polytopes\n",
    "\n",
    "This page gives a small introduction to lattice polytopes in `polymake`, some useful external software, and usage hints for it. For a list of methods and properties applicable to lattice polytopes see [here](https://polymake.org/doku.php/user_guide/lattice_polytopes_doc). For an introduction to the `polymake` package see [here](https://polymake.org/doku.php/user_guide/start). \n",
    "\n",
    "\n",
    "`polymake` always assumes that the lattice used to define a lattice polytope is the standard lattice Z<sup>d</sup>. Some rules also require that the polytope is full dimensional. There are user functions that transform a polytope sitting in some affine subspace of R<sup>d</sup> into a full dimensional polytope, either in the induced lattice or the lattice spanned by the vertices, see below. \n",
    "\n",
    "\n",
    "\n",
    "## Dependence on other Software\n",
    "\n",
    "For some computations `polymake` has no built-in commands and passes the computation to external software. Currently, polymake has an interface to the following packages that compute various properties of lattice polytopes.\n",
    "\n",
    "*  [libnormaliz](http://www.math.uos.de/normaliz/) by Winfried Bruns and Bogdan Ichim, bundled with polymake\n",
    "\n",
    "*  [4ti2](http://www.4ti2.de/) by the 4ti2 team\n",
    "\n",
    "*  [LattE macchiato](http://www.math.ucdavis.edu/~mkoeppe/latte/) by Matthias Köppe, building on `LattE`  by Jesus de Loera et. al.\n",
    "\n",
    "*  ([barvinok](http://freshmeat.net/projects/barvinok) by Sven Verdoolaege)\n",
    "\n",
    "Unless you want to deal with Hilbert bases of cones you don't need them. If you do, either the bundled extension `libnormaliz` or the external package `4ti2` suffices to do most computations with lattice polytopes. Computation of Gröbner bases currently requires `4ti2`. `LattE` only counts lattice points in a polytope and computes its Ehrhart polynomial, but may be faster on that than any other methods implemented. `barvinok` can be used to compute the number of lattice points and the  h-polynomial. Access to barvinok is realized via an extension which has to be downloaded separately.\n",
    "\n",
    " For some of the commands in this tutorial you will need at least one of `bundled:libnormaliz` enabled  or `4ti2` installed on your machine. We'll remind you at the relevant places.\n",
    "\n",
    "\n",
    "\n",
    "## Lattice Points in Rational Polytopes\n",
    "\n",
    "We start by creating a rational polytope using one of `polymake`'s standard polytope constructions. We choose the 3-dimensional cube with coordinates +1 and -1. So we start `polymake` at the command line and assign a cube to the variable $p.\n"
   ]
  },
  {
   "cell_type": "code",
   "execution_count": 1,
   "metadata": {},
   "outputs": [],
   "source": [
    "$p=cube(3);"
   ]
  },
  {
   "cell_type": "markdown",
   "metadata": {},
   "source": [
    "\n",
    "Suppose we want to know how many lattice points this cube contains. The answer is of course already known, as the cube has one relative interior integral point per non-empty face. So we expect to get the answer 27.\n",
    "\n",
    "    \n"
   ]
  },
  {
   "cell_type": "code",
   "execution_count": 2,
   "metadata": {},
   "outputs": [
    {
     "data": {
      "text/plain": [
       "27"
      ]
     },
     "execution_count": 2,
     "metadata": {},
     "output_type": "execute_result"
    }
   ],
   "source": [
    "print $p->N_LATTICE_POINTS;"
   ]
  },
  {
   "cell_type": "markdown",
   "metadata": {},
   "source": [
    "To satisfy this request, `polymake` computes all properties necessary to call an external program that provides the number of lattice points. In this case, `polymake` has passed the request to `lattE`, which is shown by the credit message that appears before the answer. By default, credits for external software are shown when an external package is used for the first time. You can change this behavior using the variable `$Verbose::credits`. If you don't have a version of `LattE`, or if you have set different preferences, then `polymake` may choose one of the other programs. So the credit statement depends on your configuration.\n",
    "\n",
    "\n",
    "We can of course also ask `polymake` to compute the integral points for us. For our next computations we are only interested in the integral points in the interior of the cube, so we ask for\n",
    "\n",
    "    \n"
   ]
  },
  {
   "cell_type": "code",
   "execution_count": 3,
   "metadata": {},
   "outputs": [
    {
     "data": {
      "text/plain": [
       "1 0 0 0\n"
      ]
     },
     "execution_count": 3,
     "metadata": {},
     "output_type": "execute_result"
    }
   ],
   "source": [
    "print $p->INTERIOR_LATTICE_POINTS;"
   ]
  },
  {
   "cell_type": "markdown",
   "metadata": {},
   "source": [
    "Internally, `polymake` computes the intersection of the polytope with the integer lattice, and then checks which of the points lies on a facet of $p. By default, `polymake` uses a project-and-lift algorithms to enumerate the lattice points. Note that our call to `LattE` above has only computed the number of integral points (which is done with an improved version of Barvinok's algorithm), so `polymake` really has to compute something here. If we had asked for `INTERIOR_LATTICE_POINTS` first, then `N_LATTICE_POINTS` would just have counted the rows of a matrix, which would have been much faster. So computation time can depend on the history. \n",
    "\n",
    "You can also ask for the HILBERT_BASIS, though in the case of a cube the result is not so exciting: \n",
    "\n",
    "    \n"
   ]
  },
  {
   "cell_type": "code",
   "execution_count": 4,
   "metadata": {},
   "outputs": [
    {
     "data": {
      "text/plain": [
       "1 -1 -1 -1\n",
       "1 -1 -1 0\n",
       "1 -1 -1 1\n",
       "1 -1 0 -1\n",
       "1 -1 0 0\n",
       "1 -1 0 1\n",
       "1 -1 1 -1\n",
       "1 -1 1 0\n",
       "1 -1 1 1\n",
       "1 0 -1 -1\n",
       "1 0 -1 0\n",
       "1 0 -1 1\n",
       "1 0 0 -1\n",
       "1 0 0 0\n",
       "1 0 0 1\n",
       "1 0 1 -1\n",
       "1 0 1 0\n",
       "1 0 1 1\n",
       "1 1 -1 -1\n",
       "1 1 -1 0\n",
       "1 1 -1 1\n",
       "1 1 0 -1\n",
       "1 1 0 0\n",
       "1 1 0 1\n",
       "1 1 1 -1\n",
       "1 1 1 0\n",
       "1 1 1 1\n"
      ]
     },
     "execution_count": 4,
     "metadata": {},
     "output_type": "execute_result"
    },
    {
     "data": {
      "text/html": [
       "<details><summary><pre style=\"display:inline\"><small>Click here for additional output</small></pre></summary>\n",
       "<pre>\n",
       "polymake: used package libnormaliz\n",
       "  [[wiki:external_software#Normaliz]] is a tool for computations in affine monoids, vector configurations, lattice polytopes, and rational cones.\n",
       "  Copyright by Winfried Bruns, Bogdan Ichim, Christof Soeger.\n",
       "  http://www.math.uos.de/normaliz/\n",
       "\n",
       "</pre>\n",
       "</details>\n"
      ]
     },
     "metadata": {},
     "output_type": "display_data"
    }
   ],
   "source": [
    "print $p->HILBERT_BASIS;"
   ]
  },
  {
   "cell_type": "markdown",
   "metadata": {},
   "source": [
    "`polymake` has no native method to compute a Hilbert basis, so it has passed the computation to `4ti2`. The choice may vary, depending on what is installed on your computer (and configured for `polymake`). You can influence the choice with the appropriate `prefer` statement. \n",
    "\n",
    "Note that so far these commands also work for rational polytopes. \n",
    "\n",
    "## Lattice Polytopes\n",
    "\n",
    "Now we want to do some computations that don't make sense for polytopes that have non-integral vertex coordinates. We can let `polymake` check that our cube is indeed a polytope with integral vertices.\n",
    "\n",
    "    \n"
   ]
  },
  {
   "cell_type": "code",
   "execution_count": 5,
   "metadata": {},
   "outputs": [
    {
     "data": {
      "text/plain": [
       "true"
      ]
     },
     "execution_count": 5,
     "metadata": {},
     "output_type": "execute_result"
    }
   ],
   "source": [
    "print $p->LATTICE;"
   ]
  },
  {
   "cell_type": "markdown",
   "metadata": {},
   "source": [
    "A particularly interesting class of lattice polytopes is that of reflexive polytopes. A polytope is *reflexive* if its polar is agein alattice polytope. This implies in particular that the origin is the unique interior lattice point in the polytope. So, as we have seen above, our cube is a candidate. But this is not sufficient, so we have to do further checks.\n",
    "\n",
    "\n",
    "Reflexivity is a property that is not defined for polytopes with non-integral vertices. So if we ask for it in `polymake`, then `polymake` checks that the entered polytope is indeed a lattice polytope (i.e. it is **bounded** and has **integral vertices**). In that case the object will automatically get the specialization `Polytope::Lattice`."
   ]
  },
  {
   "cell_type": "code",
   "execution_count": 6,
   "metadata": {},
   "outputs": [
    {
     "data": {
      "text/plain": [
       "true"
      ]
     },
     "execution_count": 6,
     "metadata": {},
     "output_type": "execute_result"
    }
   ],
   "source": [
    "print $p->REFLEXIVE;"
   ]
  },
  {
   "cell_type": "markdown",
   "metadata": {},
   "source": [
    "Lattice polytopes can be used to define toric varieties with an ample line bundle, and many properties of the variety are reflected by the polytope. here is an example: The toric variety defined by our cube is *smooth*, i.e. it is one of the *smooth toric Fano varieties*. In `polymake`, we can just ask for this property in the following way."
   ]
  },
  {
   "cell_type": "code",
   "execution_count": 7,
   "metadata": {},
   "outputs": [
    {
     "data": {
      "text/plain": [
       "true"
      ]
     },
     "execution_count": 7,
     "metadata": {},
     "output_type": "execute_result"
    }
   ],
   "source": [
    "print $p->SMOOTH;"
   ]
  },
  {
   "cell_type": "markdown",
   "metadata": {},
   "source": [
    "\n",
    "The number of integral points in the k-th dilate of a polytope is given by a polynomial of degree d in k. This is the famous *Ehrhart Theorem*. In `polymake` you can obtain the coefficients of this polynomial (starting with the constant coefficient).\n",
    "\n",
    "    \n"
   ]
  },
  {
   "cell_type": "code",
   "execution_count": 8,
   "metadata": {},
   "outputs": [
    {
     "data": {
      "text/plain": [
       "8*x^3 + 12*x^2 + 6*x + 1"
      ]
     },
     "execution_count": 8,
     "metadata": {},
     "output_type": "execute_result"
    }
   ],
   "source": [
    "print $p->EHRHART_POLYNOMIAL;"
   ]
  },
  {
   "cell_type": "markdown",
   "metadata": {},
   "source": [
    "`polymake` has passed this request to `LattE` or `normaliz`, but as we have used these programs already the credit message is suppressed (but if you save the cube to a file, then you will find it in there). Some coefficients of this polynomial have a geometric interpretation. E.g., the highest coefficient is the Euclidean volume of the polytope. \n",
    "\n",
    "    \n"
   ]
  },
  {
   "cell_type": "code",
   "execution_count": 9,
   "metadata": {},
   "outputs": [
    {
     "data": {
      "text/plain": [
       "8"
      ]
     },
     "execution_count": 9,
     "metadata": {},
     "output_type": "execute_result"
    }
   ],
   "source": [
    "print $p->VOLUME;"
   ]
  },
  {
   "cell_type": "markdown",
   "metadata": {},
   "source": [
    "By a theorem of Stanley, the generating function for the number of lattice points can be written as the quotient of a polynomial h<sup></sup>(t) by (1-t)<sup>d+1</sup>, and this polynomial has non-negative integral coefficients. \n",
    "\n",
    "    \n"
   ]
  },
  {
   "cell_type": "code",
   "execution_count": 10,
   "metadata": {},
   "outputs": [
    {
     "data": {
      "text/plain": [
       "1 23 23 1"
      ]
     },
     "execution_count": 10,
     "metadata": {},
     "output_type": "execute_result"
    }
   ],
   "source": [
    "print $p->H_STAR_VECTOR;"
   ]
  },
  {
   "cell_type": "code",
   "execution_count": 11,
   "metadata": {},
   "outputs": [
    {
     "data": {
      "text/plain": [
       "3"
      ]
     },
     "execution_count": 11,
     "metadata": {},
     "output_type": "execute_result"
    }
   ],
   "source": [
    "print $p->LATTICE_DEGREE;"
   ]
  },
  {
   "cell_type": "code",
   "execution_count": 12,
   "metadata": {},
   "outputs": [
    {
     "data": {
      "text/plain": [
       "1"
      ]
     },
     "execution_count": 12,
     "metadata": {},
     "output_type": "execute_result"
    }
   ],
   "source": [
    "print $p->LATTICE_CODEGREE;"
   ]
  },
  {
   "cell_type": "markdown",
   "metadata": {},
   "source": [
    "In our case the coefficient vector is symmetric, as the polytope is reflexive. The *co-degree* of the polytope is d+1 minus the degree of the h<sup></sup>-polynomial. It is the smallest factor by which we have to dilate the polytope to obtain an interior integral point. In our case, this is 1, as the cube already has an integral point.\n",
    "\n",
    "\n",
    "We can obtain the volume of our polytope also from the `H_STAR_VECTOR`: Summing up the coefficients give the *lattice volume* of the polytope, which is d! times its Euclidean volume.\n",
    "\n",
    "    \n"
   ]
  },
  {
   "cell_type": "code",
   "execution_count": 13,
   "metadata": {},
   "outputs": [
    {
     "data": {
      "text/plain": [
       "48"
      ]
     },
     "execution_count": 13,
     "metadata": {},
     "output_type": "execute_result"
    }
   ],
   "source": [
    "print $p->LATTICE_VOLUME;"
   ]
  },
  {
   "cell_type": "markdown",
   "metadata": {},
   "source": [
    "\n",
    "Let us look at a different example: \n",
    "\n",
    "    \n"
   ]
  },
  {
   "cell_type": "code",
   "execution_count": 14,
   "metadata": {},
   "outputs": [],
   "source": [
    "$q=new Polytope(INEQUALITIES=>[[5,-4,0,1],[-3,0,-4,1],[-2,1,0,0],[-4,4,4,-1],[0,0,1,0],[8,0,0,-1],[1,0,-1,0],[3,-1,0,0]]);"
   ]
  },
  {
   "cell_type": "markdown",
   "metadata": {},
   "source": [
    "\n",
    "This actually defines a lattice polytope, which we can see from the list of vertices:\n",
    "\n",
    "    \n"
   ]
  },
  {
   "cell_type": "code",
   "execution_count": 15,
   "metadata": {},
   "outputs": [
    {
     "data": {
      "text/plain": [
       "1 3 1 8\n",
       "1 3 0 8\n",
       "1 2 0 4\n",
       "1 2 0 3\n",
       "1 3 0 7\n",
       "1 2 1 8\n",
       "1 2 1 7\n",
       "1 3 1 7\n"
      ]
     },
     "execution_count": 15,
     "metadata": {},
     "output_type": "execute_result"
    },
    {
     "data": {
      "text/html": [
       "<details><summary><pre style=\"display:inline\"><small>Click here for additional output</small></pre></summary>\n",
       "<pre>\n",
       "polymake: used package lrs\n",
       "  Implementation of the reverse search algorithm of Avis and Fukuda.\n",
       "  Copyright by David Avis.\n",
       "  http://cgm.cs.mcgill.ca/~avis/C/lrs.html\n",
       "\n",
       "</pre>\n",
       "</details>\n"
      ]
     },
     "metadata": {},
     "output_type": "display_data"
    }
   ],
   "source": [
    "print $q->VERTICES;"
   ]
  },
  {
   "cell_type": "markdown",
   "metadata": {},
   "source": [
    "`polymake` provides basically three methods for convex hull conversion, double description, reverse search, and beneath beyond. The first two are provided by the packages `cdd` and `lrs`, the last in internal. By default, `cdd` is chosen, and that is what was used above (they are bundled with `polymake`, you don't have to install them). A polytope Q is *normal* if every lattice point in the k-th dilate of Q is the sum of k lattice points in Q. You can check this property via\n",
    "\n",
    "    \n"
   ]
  },
  {
   "cell_type": "code",
   "execution_count": 16,
   "metadata": {
    "scrolled": true
   },
   "outputs": [
    {
     "data": {
      "text/plain": [
       "false"
      ]
     },
     "execution_count": 16,
     "metadata": {},
     "output_type": "execute_result"
    }
   ],
   "source": [
    "print $q->NORMAL;"
   ]
  },
  {
   "cell_type": "markdown",
   "metadata": {},
   "source": [
    "So our polytope is not normal. We can also find a point that violates the condition. Being normal is equivalent to the fact, that the Hilbert basis of the cone C(Q) obtained from Q by embedding the polytope at height one and the coning over it has all its generators in height one. The property HILBERT_BASIS computes these generators:\n",
    "\n",
    "    \n"
   ]
  },
  {
   "cell_type": "code",
   "execution_count": 17,
   "metadata": {},
   "outputs": [
    {
     "data": {
      "text/plain": [
       "1 2 0 3\n",
       "1 2 0 4\n",
       "1 2 1 7\n",
       "1 2 1 8\n",
       "1 3 0 7\n",
       "1 3 0 8\n",
       "1 3 1 7\n",
       "1 3 1 8\n",
       "2 5 1 13\n"
      ]
     },
     "execution_count": 17,
     "metadata": {},
     "output_type": "execute_result"
    }
   ],
   "source": [
    "print $q->HILBERT_BASIS;"
   ]
  },
  {
   "cell_type": "markdown",
   "metadata": {},
   "source": [
    "The last row is the desired vector: [2,5,1,13] is a vector in 2*Q, but it is not a sum of lattice points in Q. The cone C(Q) corresponds to an affine toric variety, and the above tells us that this variety is not normal. Yet, it is very ample, as we can check with\n",
    "\n",
    "    \n"
   ]
  },
  {
   "cell_type": "code",
   "execution_count": 18,
   "metadata": {},
   "outputs": [
    {
     "data": {
      "text/plain": [
       "true"
      ]
     },
     "execution_count": 18,
     "metadata": {},
     "output_type": "execute_result"
    },
    {
     "data": {
      "text/html": [
       "<details><summary><pre style=\"display:inline\"><small>Click here for additional output</small></pre></summary>\n",
       "<pre>\n",
       "polymake: used package cdd\n",
       "  cddlib\n",
       "  Implementation of the double description method of Motzkin et al.\n",
       "  Copyright by Komei Fukuda.\n",
       "  http://www-oldurls.inf.ethz.ch/personal/fukudak/cdd_home/\n",
       "\n",
       "</pre>\n",
       "</details>\n"
      ]
     },
     "metadata": {},
     "output_type": "display_data"
    }
   ],
   "source": [
    "print $q->VERY_AMPLE;"
   ]
  },
  {
   "cell_type": "markdown",
   "metadata": {},
   "source": [
    "Now assume we are particularly interested in the third facet of Q. We can pick this via\n",
    "\n",
    "    \n"
   ]
  },
  {
   "cell_type": "code",
   "execution_count": 19,
   "metadata": {},
   "outputs": [],
   "source": [
    "$f=facet($q,2);"
   ]
  },
  {
   "cell_type": "markdown",
   "metadata": {},
   "source": [
    "\n",
    "Recall that indexes in `polymake` start at 0, so the third facet has index 2. This is again a very ample polytope:\n",
    "\n",
    "    \n"
   ]
  },
  {
   "cell_type": "code",
   "execution_count": 20,
   "metadata": {},
   "outputs": [
    {
     "data": {
      "text/plain": [
       "true"
      ]
     },
     "execution_count": 20,
     "metadata": {},
     "output_type": "execute_result"
    }
   ],
   "source": [
    "print $f->VERY_AMPLE;"
   ]
  },
  {
   "cell_type": "markdown",
   "metadata": {},
   "source": [
    "The result is no surprise, being very ample is inherited by faces. We could also be interested in the facet width of the polytope `$f`. This is the minimum over the maximal distance of a facet to any other vertex. `polymake` knows how to compute this:"
   ]
  },
  {
   "cell_type": "code",
   "execution_count": 21,
   "metadata": {},
   "outputs": [],
   "source": [
    "#print $f->FACET_WIDTH;"
   ]
  },
  {
   "cell_type": "markdown",
   "metadata": {},
   "source": [
    "Almost. It tells you that it can only do this for a full dimensional polytope, i.e. for a polytope whose dimension coincides with the ambient dimension. This is not true for our facet: It lives in the same ambient space as `$q`, but has one dimension less. We can remedy this by applying the following:"
   ]
  },
  {
   "cell_type": "code",
   "execution_count": 22,
   "metadata": {},
   "outputs": [
    {
     "data": {
      "text/plain": [
       "1"
      ]
     },
     "execution_count": 22,
     "metadata": {},
     "output_type": "execute_result"
    }
   ],
   "source": [
    "$g=ambient_lattice_normalization($f);\n",
    "print $g->FACET_WIDTH;"
   ]
  },
  {
   "cell_type": "markdown",
   "metadata": {},
   "source": [
    "The function `ambient_lattice_normalization` returns a full dimensional version of the polytope `$f` in the lattice induced by the intersection of the affine space of `$f` with Z^n. Now `$g` is full dimensional, and we can compute the facet width. Note that there is also a function which normalizes in the lattice spanned by the vertices of the polytope: `vertex_facet_normalization`. This can also be usefull for full dimensional polytopes. E.g. consider the cube we defined above. The sum of the entries of each vertex is odd, so the lattice spannd by the vertices is a sublattice of the integer lattice:\n",
    "\n",
    "    \n"
   ]
  },
  {
   "cell_type": "code",
   "execution_count": 23,
   "metadata": {},
   "outputs": [
    {
     "data": {
      "text/plain": [
       "(4) (0 1)\n",
       "1 1 0 0\n",
       "1 0 1 0\n",
       "1 1 1 0\n",
       "1 0 0 1\n",
       "1 1 0 1\n",
       "1 0 1 1\n",
       "1 1 1 1\n"
      ]
     },
     "execution_count": 23,
     "metadata": {},
     "output_type": "execute_result"
    }
   ],
   "source": [
    "$cr=vertex_lattice_normalization($p);\n",
    "print $cr->VERTICES;"
   ]
  },
  {
   "cell_type": "markdown",
   "metadata": {},
   "source": [
    "`$cr` is the same cube, but we have reduced the lattice. (The first line is a *sparse representation* of a vector: it has length 4, and the only non-zero entry is at position 0 and is 1 (note that indexes start at 0)).\n",
    "\n",
    "## Toric Varieties\n",
    "\n",
    "`polymake` has only few builtin functions to compute properties of the variety associated to a fan or lattice polytope. There are two extensions available that add more properties, both currently at an early stage:\n",
    "\n",
    "*  [Toric Varieties and Singular interface](https://github.com/lkastner) by Lars Kastner/Benjamin Lorenz\n",
    "\n",
    "*  [ToricVarieties-v0.3](http://www.mathematik.tu-darmstadt.de/~paffenholz/software.html) by Andreas Paffenholz. Defines a new property for toric varieties associated to a fan and divisors on that variety. \n",
    "\n",
    "Here we will do some computations that do not require one of the extensions. We start by defining a fan. We'll make our live easy and take the normal fan of our cube:\n",
    "\n",
    "    \n"
   ]
  },
  {
   "cell_type": "code",
   "execution_count": 24,
   "metadata": {},
   "outputs": [],
   "source": [
    "application \"fan\";"
   ]
  },
  {
   "cell_type": "code",
   "execution_count": 25,
   "metadata": {},
   "outputs": [
    {
     "data": {
      "text/plain": [
       "true"
      ]
     },
     "execution_count": 25,
     "metadata": {},
     "output_type": "execute_result"
    }
   ],
   "source": [
    "$f = normal_fan($p);\n",
    "print $f->SMOOTH_FAN;"
   ]
  },
  {
   "cell_type": "markdown",
   "metadata": {},
   "source": [
    "With the last line we have verified that our fan defines a smooth toric variety. Note that switching the application is not strictly necessary, you can also prepend calls to functions and constructors with `fan::`. The fan object `$f` itself knows its type, and chooses available properties based on this. Any smooth variety is Gorenstein, so we expect the following:\n",
    "\n",
    "    \n"
   ]
  },
  {
   "cell_type": "code",
   "execution_count": 26,
   "metadata": {},
   "outputs": [
    {
     "data": {
      "text/plain": [
       "true"
      ]
     },
     "execution_count": 26,
     "metadata": {},
     "output_type": "execute_result"
    }
   ],
   "source": [
    "print $f->GORENSTEIN;"
   ]
  },
  {
   "cell_type": "markdown",
   "metadata": {},
   "source": [
    "Similarly, we could check for Q-Gorensteinness with `Q_GORENSTEIN`. It is also a complete fan:\n",
    "\n",
    "    \n"
   ]
  },
  {
   "cell_type": "code",
   "execution_count": 27,
   "metadata": {},
   "outputs": [
    {
     "data": {
      "text/plain": [
       "true"
      ]
     },
     "execution_count": 27,
     "metadata": {},
     "output_type": "execute_result"
    }
   ],
   "source": [
    "print $f->COMPLETE;"
   ]
  },
  {
   "cell_type": "markdown",
   "metadata": {},
   "source": [
    "but currently there is little support to detect completeness in `polymake`. In our case it was already decided during construction, normal fans are complete. You can also check standard features of fans, like their rays. Let us do this for the normal fan of our other example:\n",
    "\n",
    "    \n"
   ]
  },
  {
   "cell_type": "code",
   "execution_count": 28,
   "metadata": {},
   "outputs": [
    {
     "data": {
      "text/plain": [
       "-1 0 1/4\n",
       "0 -1 1/4\n",
       "1 0 0\n",
       "1 1 -1/4\n",
       "0 1 0\n",
       "0 0 -1\n",
       "0 -1 0\n",
       "-1 0 0\n"
      ]
     },
     "execution_count": 28,
     "metadata": {},
     "output_type": "execute_result"
    }
   ],
   "source": [
    "$g=normal_fan($q);\n",
    "print $g->RAYS;"
   ]
  },
  {
   "cell_type": "markdown",
   "metadata": {},
   "source": [
    "This is not what we wanted. We would like to see the minimal lattice generators of the rays. We can fix this using\n",
    "\n",
    "    \n"
   ]
  },
  {
   "cell_type": "code",
   "execution_count": 29,
   "metadata": {},
   "outputs": [
    {
     "data": {
      "text/plain": [
       "-4 0 1\n",
       "0 -4 1\n",
       "1 0 0\n",
       "4 4 -1\n",
       "0 1 0\n",
       "0 0 -1\n",
       "0 -1 0\n",
       "-1 0 0\n"
      ]
     },
     "execution_count": 29,
     "metadata": {},
     "output_type": "execute_result"
    }
   ],
   "source": [
    "print primitive($g->RAYS);"
   ]
  },
  {
   "cell_type": "markdown",
   "metadata": {},
   "source": [
    "Note that the function `primitive` returns a copy of the argument, the RAYS as stored in the fan are unchanged. So you have to apply this function each time you need the primitive generators, or you store them in a new variable. The fan $g$ is not smooth, but still Gorenstein:\n",
    "\n",
    "    \n"
   ]
  },
  {
   "cell_type": "code",
   "execution_count": 30,
   "metadata": {},
   "outputs": [
    {
     "data": {
      "text/plain": [
       "false"
      ]
     },
     "execution_count": 30,
     "metadata": {},
     "output_type": "execute_result"
    }
   ],
   "source": [
    "print $g->SMOOTH_FAN;"
   ]
  },
  {
   "cell_type": "code",
   "execution_count": 31,
   "metadata": {},
   "outputs": [
    {
     "data": {
      "text/plain": [
       "true"
      ]
     },
     "execution_count": 31,
     "metadata": {},
     "output_type": "execute_result"
    }
   ],
   "source": [
    "print $g->GORENSTEIN;"
   ]
  },
  {
   "cell_type": "markdown",
   "metadata": {},
   "source": [
    "You can also access the maximal cones of the fan via\n",
    "\n",
    "    \n"
   ]
  },
  {
   "cell_type": "code",
   "execution_count": 32,
   "metadata": {},
   "outputs": [
    {
     "data": {
      "text/plain": [
       "{5 6 7}\n",
       "{3 4 5 7}\n",
       "{2 3 4}\n",
       "{0 1 2 4}\n",
       "{0 4 7}\n",
       "{2 3 5 6}\n",
       "{1 2 6}\n",
       "{0 1 6 7}\n"
      ]
     },
     "execution_count": 32,
     "metadata": {},
     "output_type": "execute_result"
    }
   ],
   "source": [
    "print $g->MAXIMAL_CONES;"
   ]
  },
  {
   "cell_type": "markdown",
   "metadata": {},
   "source": [
    "The indices in these list refer to the list of rays. Sometimes you might be interested in the walls, i.e. the codimension 2 faces of the fan. Here is one way to get them \n",
    "\n",
    "    \n"
   ]
  },
  {
   "cell_type": "code",
   "execution_count": 33,
   "metadata": {},
   "outputs": [
    {
     "data": {
      "text/plain": [
       "0:-1\n",
       "1:5 6 7\n",
       "2:3 4 5 7\n",
       "3:2 3 4\n",
       "4:0 1 2 4\n",
       "5:0 4 7\n",
       "6:2 3 5 6\n",
       "7:1 2 6\n",
       "8:0 1 6 7\n",
       "9:5 7\n",
       "10:5 6\n",
       "11:6 7\n",
       "12:3 4\n",
       "13:4 7\n",
       "14:3 5\n",
       "15:2 4\n",
       "16:2 3\n",
       "17:0 4\n",
       "18:1 2\n",
       "19:0 1\n",
       "20:0 7\n",
       "21:2 6\n",
       "22:1 6\n",
       "23:5\n",
       "24:7\n",
       "25:6\n",
       "26:3\n",
       "27:4\n",
       "28:2\n",
       "29:0\n",
       "30:1\n",
       "31:\n"
      ]
     },
     "execution_count": 33,
     "metadata": {},
     "output_type": "execute_result"
    }
   ],
   "source": [
    "print rows_numbered($g->HASSE_DIAGRAM->FACES);"
   ]
  },
  {
   "cell_type": "code",
   "execution_count": 34,
   "metadata": {},
   "outputs": [
    {
     "data": {
      "text/plain": [
       "{23 24 25 26 27 28 29 30}"
      ]
     },
     "execution_count": 34,
     "metadata": {},
     "output_type": "execute_result"
    }
   ],
   "source": [
    "print $g->HASSE_DIAGRAM->nodes_of_dim($g->DIM-2);"
   ]
  },
  {
   "cell_type": "markdown",
   "metadata": {},
   "source": [
    "where the list of numbers given by the latter are the indices of the codimension 2 faces in the list of all faces given before. There is a more concise way to list those, using some simple perl programming:\n",
    "\n",
    "    \n"
   ]
  },
  {
   "cell_type": "code",
   "execution_count": 35,
   "metadata": {},
   "outputs": [
    {
     "data": {
      "text/plain": [
       "{5}{7}{6}{3}{4}{2}{0}{1}"
      ]
     },
     "execution_count": 35,
     "metadata": {},
     "output_type": "execute_result"
    }
   ],
   "source": [
    "print map($g->HASSE_DIAGRAM->FACES->[$_], @{$g->HASSE_DIAGRAM->nodes_of_dim($g->DIM-2)});"
   ]
  },
  {
   "cell_type": "markdown",
   "metadata": {},
   "source": [
    "\n",
    "\n",
    "## Visualization\n",
    "\n",
    "If the lattice polytope lives in R^2 or R^3, then we can visualize the polytope together with its lattice points.\n",
    "\n"
   ]
  },
  {
   "cell_type": "code",
   "execution_count": 36,
   "metadata": {},
   "outputs": [
    {
     "data": {
      "text/html": [
       "<!--\n",
       "polymake for knusper\n",
       "Thu May 14 20:35:27 2020\n",
       "p\n",
       "-->\n",
       "\n",
       "\n",
       "<html>\n",
       "   <head>\n",
       "      <title>p</title>\n",
       "      <style>\n",
       "/*\n",
       "// COMMON_CODE_BLOCK_BEGIN\n",
       "*/\n",
       "         html{overflow: scroll;}\n",
       "         body { font-family: Arial, Helvetica, sans-serif}\n",
       "         strong{font-size: 18px;}\n",
       "         canvas { z-index: 8; }\n",
       "         input[type='range'] {}\n",
       "         input[type='radio'] {margin-left:0;}\n",
       "         input[type='checkbox'] {margin-right:7px; margin-left: 0px; padding-left:0px;}\n",
       "         .group{padding-bottom: 40px;}\n",
       "         .settings * {z-index: 11; }\n",
       "         .settings{z-index: 10; margin-left: 30px; display: none; width: 14em; height: 90%; border: solid 1px silver; padding: 2px; overflow-y: scroll; background-color: white }\n",
       "         .indented{margin-left: 20px; margin-top: 15px; padding-bottom: 0px;} \n",
       "         .shownObjectsList{overflow: auto; max-width: 150px; max-height: 150px;}\n",
       "         .showSettingsButton{display: block; z-index: 12; position: absolute }\n",
       "         .hideSettingsButton{display: none; z-index: 12; position: absolute; opacity: 0.5}\n",
       "         .resetButton{margin-top: 20px;}\n",
       "         button{margin-left: 0;}\n",
       "         img{cursor: pointer;}\n",
       "         .suboption{padding-top: 30px;}\n",
       "         .transparency{display: none;}\n",
       "         .labelsCheckbox{margin-top: 10px;}\n",
       "\n",
       "\n",
       "         input[type=range] {\n",
       "           -webkit-appearance: none;\n",
       "           padding:0; \n",
       "           width:90%; \n",
       "           margin-left: auto;\n",
       "           margin-right: auto;\n",
       "           margin-top: 20px;\n",
       "           display: block;\t\n",
       "         }\n",
       "         input[type=range]:focus {\n",
       "           outline: none;\n",
       "         }\n",
       "         input[type=range]::-webkit-slider-runnable-track {\n",
       "           height: 4px;\n",
       "           cursor: pointer;\n",
       "           animate: 0.2s;\n",
       "           box-shadow: 0px 0px 0px #000000;\n",
       "           background: #E3E3E3;\n",
       "           border-radius: 0px;\n",
       "           border: 0px solid #000000;\n",
       "         }\n",
       "         input[type=range]::-webkit-slider-thumb {\n",
       "           box-shadow: 1px 1px 2px #B8B8B8;\n",
       "           border: 1px solid #ABABAB;\n",
       "           height: 13px;\n",
       "           width: 25px;\n",
       "           border-radius: 20px;\n",
       "           background: #E0E0E0;\n",
       "           cursor: pointer;\n",
       "           -webkit-appearance: none;\n",
       "           margin-top: -5px;\n",
       "         }\n",
       "         input[type=range]:focus::-webkit-slider-runnable-track {\n",
       "           background: #E3E3E3;\n",
       "         }\n",
       "         input[type=range]::-moz-range-track {\n",
       "           height: 4px;\n",
       "           cursor: pointer;\n",
       "           animate: 0.2s;\n",
       "           box-shadow: 0px 0px 0px #000000;\n",
       "           background: #E3E3E3;\n",
       "           border-radius: 0px;\n",
       "           border: 0px solid #000000;\n",
       "         }\n",
       "         input[type=range]::-moz-range-thumb {\n",
       "           box-shadow: 1px 1px 2px #B8B8B8;\n",
       "           border: 1px solid #ABABAB;\n",
       "           height: 13px;\n",
       "           width: 25px;\n",
       "           border-radius: 20px;\n",
       "           background: #E0E0E0;\n",
       "           cursor: pointer;\n",
       "         }\n",
       "         input[type=range]::-ms-track {\n",
       "           height: 4px;\n",
       "           cursor: pointer;\n",
       "           animate: 0.2s;\n",
       "           background: transparent;\n",
       "           border-color: transparent;\n",
       "           color: transparent;\n",
       "         }\n",
       "         input[type=range]::-ms-fill-lower {\n",
       "           background: #E3E3E3;\n",
       "           border: 0px solid #000000;\n",
       "           border-radius: 0px;\n",
       "           box-shadow: 0px 0px 0px #000000;\n",
       "         }\n",
       "         input[type=range]::-ms-fill-upper {\n",
       "           background: #E3E3E3;\n",
       "           border: 0px solid #000000;\n",
       "           border-radius: 0px;\n",
       "           box-shadow: 0px 0px 0px #000000;\n",
       "         }\n",
       "         input[type=range]::-ms-thumb {\n",
       "           box-shadow: 1px 1px 2px #B8B8B8;\n",
       "           border: 1px solid #ABABAB;\n",
       "           height: 13px;\n",
       "           width: 25px;\n",
       "           border-radius: 20px;\n",
       "           background: #E0E0E0;\n",
       "           cursor: pointer;\n",
       "         }\n",
       "         input[type=range]:focus::-ms-fill-lower {\n",
       "           background: #E3E3E3;\n",
       "         }\n",
       "         input[type=range]:focus::-ms-fill-upper {\n",
       "           background: #E3E3E3;\n",
       "         }\n",
       "/*\n",
       "// COMMON_CODE_BLOCK_END\n",
       "*/\n",
       "\t\t</style>\n",
       "   </head>\n",
       "\n",
       "<body>\n",
       "\n",
       "\t\t<div id='settings_0' class='settings'>\n",
       "\t\t\t<div class=group id='explode_0'>\n",
       "\t\t\t\t<strong>Explode</strong>\n",
       "\t\t\t\t<input id='explodeRange_0' type='range' min=0 max=6 step=0.01 value=0>\n",
       "\t\t\t\t<div class=indented><input id='explodeCheckbox_0' type='checkbox'>Automatic explosion</div>\n",
       "\t\t\t\t<div class=suboption>Exploding speed</div>\n",
       "\t\t\t\t<input id='explodingSpeedRange_0' type='range' min=0 max=0.5 step=0.001 value=0.05>\n",
       "\t\t\t</div>\n",
       "\n",
       "\t\t\t\n",
       "\t\t\t<div class=group id='transparency_0' class='transparency'>\n",
       "\t\t\t\t<strong>Transparency</strong>\n",
       "\t\t\t\t<input id='transparencyRange_0' type='range' min=0 max=1 step=0.01 value=0>\n",
       "\t\t\t</div>\n",
       "\t\t\t\n",
       "\t\t\t<div class=group id='rotation_0'>\n",
       "\t\t\t\t<strong>Rotation</strong>\n",
       "\t\t\t\t<div class=indented>\n",
       "\t\t\t\t\t<div><input type='checkbox' id='changeRotationX_0'> x-axis</div>\n",
       "\t\t\t\t\t<div><input type='checkbox' id='changeRotationY_0'> y-axis</div>\n",
       "\t\t\t\t\t<div><input type='checkbox' id='changeRotationZ_0'> z-axis</div>\n",
       "\t\t\t\t\t<button id='resetButton_0' class='resetButton' >Reset</button>\n",
       "\t\t\t\t</div>\n",
       "\n",
       "\t\t\t\t<div class=suboption>Rotation speed</div>\n",
       "\t\t\t\t<input id='rotationSpeedRange_0' type='range' min=0 max=5 step=0.01 value=2>\n",
       "\n",
       "\t\t\t</div>\n",
       "\n",
       "\n",
       "\t\t\t<div class=group id='display_0'>\n",
       "\t\t\t\t<strong>Display</strong>\n",
       "\t\t\t\t<div class=indented>\n",
       "\t\t\t\t\t<div id='shownObjectsList_0' class='shownObjectsList'></div>\n",
       "\t\t\t\t\t<div class='labelsCheckbox'><input type='checkbox' id='labelsCheckboxInput_0' checked>Labels</div>\n",
       "\t\t\t\t</div>\n",
       "\t\t\t</div>\n",
       "\n",
       "\n",
       "\t\t\t<div class=group id='svg_0'>\n",
       "\t\t\t\t<strong>SVG</strong>\n",
       "\t\t\t\t<div class=indented>\n",
       "\t\t\t\t\t<form>\n",
       "\t\t\t\t\t\t<input type=\"radio\" name='screenshotMode' value='download' id='download_0' checked> Download<br>\n",
       "\t\t\t\t\t\t<input type=\"radio\" name='screenshotMode' value='tab' id='tab_0' > New tab<br>\n",
       "\t\t\t\t\t</form>\n",
       "\t\t\t\t\t<button id='takeScreenshot_0'>Screenshot</button>\n",
       "\t\t\t\t</div>\n",
       "\t\t\t</div>\n",
       "\n",
       "\t\t</div>\t<!-- end of settings -->\n",
       "\t\t<img id='hideSettingsButton_0' style=\"display: none\" class='hideSettingsButton' src='/kernelspecs/polymake/close.svg' width=20px\">\n",
       "\t\t<img id='showSettingsButton_0' class='showSettingsButton' src='/kernelspecs/polymake/menu.svg' width=20px\">\n",
       "<div id=\"model46669737350\"></div>\n",
       "\n",
       "<script>\n",
       "requirejs.config({\n",
       "  paths: {\n",
       "    three: '/kernelspecs/polymake/three',\n",
       "    Detector: '/kernelspecs/polymake/Detector',\n",
       "    SVGRenderer: '/kernelspecs/polymake/SVGRenderer',\n",
       "    CanvasRenderer: '/kernelspecs/polymake/CanvasRenderer',\n",
       "    Projector: '/kernelspecs/polymake/Projector',\n",
       "    TrackballControls: '/kernelspecs/polymake/TrackballControls'\n",
       "  },\n",
       "  shim: {\n",
       "    'three':\n",
       "    {\n",
       "      exports: 'THREE'\n",
       "    },\n",
       "    'Detector':\n",
       "    {\n",
       "      deps: [ 'three' ],\n",
       "      exports: 'Detector'\n",
       "    },\n",
       "    'SVGRenderer':\n",
       "    {\n",
       "      deps: [ 'three' ],\n",
       "      exports: 'THREE.SVGRenderer'\n",
       "    },\n",
       "    'CanvasRenderer':\n",
       "    {\n",
       "      deps: [ 'three' ],\n",
       "      exports: 'THREE.CanvasRenderer'\n",
       "    },\n",
       "    'Projector':\n",
       "    {\n",
       "      deps: [ 'three' ],\n",
       "      exports: 'THREE.Projector'\n",
       "    },\n",
       "    'TrackballControls':\n",
       "    {\n",
       "      deps: [ 'three' ],\n",
       "      exports: 'THREE.TrackballControls'\n",
       "    }\n",
       "  }\n",
       "});\n",
       "require(['three'],function(THREE){\n",
       "    window.THREE = THREE;\n",
       "  require(['Detector','SVGRenderer','CanvasRenderer','Projector','TrackballControls'],function(Detector,SVGRenderer,CanvasRenderer,Projector,TrackballControls){\n",
       "      THREE.SVGRenderer = SVGRenderer;\n",
       "      THREE.CanvasRenderer = CanvasRenderer;\n",
       "      THREE.Projector = Projector;\n",
       "      THREE.TrackballControls = TrackballControls;\n",
       "\n",
       "// COMMON_CODE_BLOCK_BEGIN\n",
       "\tvar foldable = false;\n",
       "   var container = document.getElementById( 'model46669737350' );\n",
       "   var renderer = Detector.webgl? new THREE.WebGLRenderer({antialias: true}): new THREE.CanvasRenderer({antialias: true});\n",
       "\tvar svgRenderer = new THREE.SVGRenderer({antialias: true});\n",
       "            var box = document.getElementsByClassName( 'output_subarea' )[0];\n",
       "         var notebook = document.getElementById( 'notebook_panel' );\n",
       "\n",
       "   var width = box.clientWidth - 25;\n",
       "   var height = notebook.clientHeight * 0.8;\n",
       "   renderer.setSize(width, height);\n",
       "   svgRenderer.setSize(width, height);\n",
       "   renderer.setClearColor(0xFFFFFF, 1);\n",
       "   svgRenderer.setClearColor(0xFFFFFF, 1);\n",
       "\n",
       "   container.appendChild(renderer.domElement);\n",
       "\n",
       "   var scene = new THREE.Scene();\n",
       "   var camera = new THREE.PerspectiveCamera(75, width/height, 0.1, 1000);\n",
       "\n",
       "   var renderid;\n",
       "\n",
       "   camera.position.set(0, 0, 5);\n",
       "   camera.lookAt(0, 0, 0);\n",
       "   camera.up.set(0, 1, 0);\n",
       "\n",
       "   // class to allow move points together with labels and spheres\n",
       "   var PMPoint = function (x,y,z) {\n",
       "      this.vector = new THREE.Vector3(x,y,z);\n",
       "      this.sprite = null;\n",
       "      this.sphere = null;\n",
       "   }\n",
       "   PMPoint.prototype.makelabel = function(label) {\n",
       "      this.sprite = textSprite( label );\n",
       "      this.sprite.position.copy(this.vector);\n",
       "   }\n",
       "   PMPoint.prototype.makesphere = function(radius,material) {\n",
       "      this.sphere = new THREE.Mesh(new THREE.SphereGeometry(radius), material);\n",
       "      this.sphere.position.copy(this.vector);\n",
       "   }\n",
       "\n",
       "   PMPoint.prototype.setX = function(x) {\n",
       "      this.vector.setX(x);\n",
       "      if (this.sprite) {\n",
       "         this.sprite.position.setX(x);\n",
       "      }\n",
       "      if (this.sphere) {\n",
       "         this.sphere.position.setX(x);\n",
       "      }\n",
       "   };\n",
       "   PMPoint.prototype.setY = function(y) {\n",
       "      this.vector.setY(y);\n",
       "      if (this.sprite) {\n",
       "         this.sprite.position.setY(y);\n",
       "      }\n",
       "      if (this.sphere) {\n",
       "         this.sphere.position.setY(y);\n",
       "      }\n",
       "   };\n",
       "   PMPoint.prototype.setZ = function(z) {\n",
       "      this.vector.setZ(z);\n",
       "      if (this.sprite) {\n",
       "         this.sprite.position.setZ(z);\n",
       "      }\n",
       "      if (this.sphere) {\n",
       "         this.sphere.position.setZ(z);\n",
       "      }\n",
       "   };\n",
       "   PMPoint.prototype.set = function(x,y,z) {\n",
       "      this.vector.set(x,y,z);\n",
       "      if (this.sprite) {\n",
       "         this.sprite.position.set(x,y,z);\n",
       "      }\n",
       "      if (this.sphere) {\n",
       "         this.sphere.position.set(x,y,z);\n",
       "      }\n",
       "   };\n",
       "   PMPoint.prototype.add = function(o) {\n",
       "      if (this.sprite) {\n",
       "         o.add(this.sprite);\n",
       "      }\n",
       "      if (this.sphere) {\n",
       "         o.add(this.sphere);\n",
       "      }\n",
       "   };\n",
       "\n",
       "\n",
       "   var controls = new THREE.TrackballControls(camera, container);\n",
       "\tcontrols.zoomSpeed = 0.2;\n",
       "\tcontrols.rotateSpeed = 4;\n",
       "\n",
       "   var all_objects = [];\n",
       "   var centroids = [];\n",
       "   // select the target node\n",
       "   var target = document.querySelector('#model46669737350');\n",
       "\n",
       "   // create an observer instance\n",
       "   var observer = new MutationObserver(function(mutations) {\n",
       "      mutations.forEach(function(mutation) {\n",
       "         if (mutation.removedNodes && mutation.removedNodes.length > 0) {\n",
       "            cancelAnimationFrame(renderId);\n",
       "            observer.disconnect();\n",
       "            console.log(\"cancelled frame \"+renderId);\n",
       "         }\n",
       "      });\n",
       "   });\n",
       "\n",
       "   // configuration of the observer:\n",
       "   var config = { childList: true, characterData: true }\n",
       "\n",
       "   // pass in the target node, as well as the observer options\n",
       "   while (target) {\n",
       "      if (target.className==\"output\") {\n",
       "         observer.observe(target, config);\n",
       "         break;\n",
       "      }\n",
       "      target = target.parentNode;\n",
       "   }\n",
       "\n",
       "// COMMON_CODE_BLOCK_END\n",
       "\n",
       "   var objectnames = [\"p\",\"Lattice points and vertices of p\"];\n",
       "   var obj = new THREE.Object3D();\n",
       "   var allpoints = [];\n",
       "   allpoints.push(new PMPoint(-1, -1, -1));\n",
       "   allpoints.push(new PMPoint(1, -1, -1));\n",
       "   allpoints.push(new PMPoint(-1, 1, -1));\n",
       "   allpoints.push(new PMPoint(1, 1, -1));\n",
       "   allpoints.push(new PMPoint(-1, -1, 1));\n",
       "   allpoints.push(new PMPoint(1, -1, 1));\n",
       "   allpoints.push(new PMPoint(-1, 1, 1));\n",
       "   allpoints.push(new PMPoint(1, 1, 1));\n",
       "\n",
       "   for (index = 0; index < allpoints.length; ++index) {\n",
       "      allpoints[index].add(obj);\n",
       "   }\n",
       "   <!-- Edge style -->\n",
       "   var line_material = new THREE.LineBasicMaterial ( {color: 0x000000, linewidth: 1.5, } );\n",
       "\n",
       "   line_material.side = THREE.DoubleSide;\n",
       "   line_material.transparent = true;\n",
       "\n",
       "   <!-- EDGES --> \n",
       "   var line = new THREE.Geometry();\n",
       "   line.vertices.push(allpoints[0].vector);\n",
       "   line.vertices.push(allpoints[4].vector);\n",
       "   line.vertices.push(allpoints[6].vector);\n",
       "   line.vertices.push(allpoints[2].vector);\n",
       "   line.vertices.push(allpoints[0].vector);\n",
       "   obj.add(new THREE.Line(line, line_material));\n",
       "\n",
       "   var line = new THREE.Geometry();\n",
       "   line.vertices.push(allpoints[7].vector);\n",
       "   line.vertices.push(allpoints[5].vector);\n",
       "   line.vertices.push(allpoints[1].vector);\n",
       "   line.vertices.push(allpoints[3].vector);\n",
       "   line.vertices.push(allpoints[7].vector);\n",
       "   obj.add(new THREE.Line(line, line_material));\n",
       "\n",
       "   var line = new THREE.Geometry();\n",
       "   line.vertices.push(allpoints[5].vector);\n",
       "   line.vertices.push(allpoints[4].vector);\n",
       "   line.vertices.push(allpoints[0].vector);\n",
       "   line.vertices.push(allpoints[1].vector);\n",
       "   line.vertices.push(allpoints[5].vector);\n",
       "   obj.add(new THREE.Line(line, line_material));\n",
       "\n",
       "   var line = new THREE.Geometry();\n",
       "   line.vertices.push(allpoints[2].vector);\n",
       "   line.vertices.push(allpoints[6].vector);\n",
       "   line.vertices.push(allpoints[7].vector);\n",
       "   line.vertices.push(allpoints[3].vector);\n",
       "   line.vertices.push(allpoints[2].vector);\n",
       "   obj.add(new THREE.Line(line, line_material));\n",
       "\n",
       "   var line = new THREE.Geometry();\n",
       "   line.vertices.push(allpoints[0].vector);\n",
       "   line.vertices.push(allpoints[2].vector);\n",
       "   line.vertices.push(allpoints[3].vector);\n",
       "   line.vertices.push(allpoints[1].vector);\n",
       "   line.vertices.push(allpoints[0].vector);\n",
       "   obj.add(new THREE.Line(line, line_material));\n",
       "\n",
       "   var line = new THREE.Geometry();\n",
       "   line.vertices.push(allpoints[6].vector);\n",
       "   line.vertices.push(allpoints[4].vector);\n",
       "   line.vertices.push(allpoints[5].vector);\n",
       "   line.vertices.push(allpoints[7].vector);\n",
       "   line.vertices.push(allpoints[6].vector);\n",
       "   obj.add(new THREE.Line(line, line_material));\n",
       "\n",
       "   scene.add(obj);\n",
       "   all_objects.push(obj);\n",
       "\n",
       "   var obj = new THREE.Object3D();\n",
       "   var allpoints = [];\n",
       "   allpoints.push(new PMPoint(0, 0, 0));\n",
       "   allpoints.push(new PMPoint(-1, -1, -1));\n",
       "   allpoints.push(new PMPoint(-1, -1, 0));\n",
       "   allpoints.push(new PMPoint(-1, -1, 1));\n",
       "   allpoints.push(new PMPoint(-1, 0, -1));\n",
       "   allpoints.push(new PMPoint(-1, 0, 0));\n",
       "   allpoints.push(new PMPoint(-1, 0, 1));\n",
       "   allpoints.push(new PMPoint(-1, 1, -1));\n",
       "   allpoints.push(new PMPoint(-1, 1, 0));\n",
       "   allpoints.push(new PMPoint(-1, 1, 1));\n",
       "   allpoints.push(new PMPoint(0, -1, -1));\n",
       "   allpoints.push(new PMPoint(0, -1, 0));\n",
       "   allpoints.push(new PMPoint(0, -1, 1));\n",
       "   allpoints.push(new PMPoint(0, 0, -1));\n",
       "   allpoints.push(new PMPoint(0, 0, 1));\n",
       "   allpoints.push(new PMPoint(0, 1, -1));\n",
       "   allpoints.push(new PMPoint(0, 1, 0));\n",
       "   allpoints.push(new PMPoint(0, 1, 1));\n",
       "   allpoints.push(new PMPoint(1, -1, -1));\n",
       "   allpoints.push(new PMPoint(1, -1, 0));\n",
       "   allpoints.push(new PMPoint(1, -1, 1));\n",
       "   allpoints.push(new PMPoint(1, 0, -1));\n",
       "   allpoints.push(new PMPoint(1, 0, 0));\n",
       "   allpoints.push(new PMPoint(1, 0, 1));\n",
       "   allpoints.push(new PMPoint(1, 1, -1));\n",
       "   allpoints.push(new PMPoint(1, 1, 0));\n",
       "   allpoints.push(new PMPoint(1, 1, 1));\n",
       "\n",
       "   <!-- Vertex style -->\n",
       "   var materials = [\n",
       "      new THREE.MeshBasicMaterial({ color: 0x1EFA1E, }),\n",
       "      new THREE.MeshBasicMaterial({ color: 0x469646, }),\n",
       "      new THREE.MeshBasicMaterial({ color: 0x469646, }),\n",
       "      new THREE.MeshBasicMaterial({ color: 0x469646, }),\n",
       "      new THREE.MeshBasicMaterial({ color: 0x469646, }),\n",
       "      new THREE.MeshBasicMaterial({ color: 0x469646, }),\n",
       "      new THREE.MeshBasicMaterial({ color: 0x469646, }),\n",
       "      new THREE.MeshBasicMaterial({ color: 0x469646, }),\n",
       "      new THREE.MeshBasicMaterial({ color: 0x469646, }),\n",
       "      new THREE.MeshBasicMaterial({ color: 0x469646, }),\n",
       "      new THREE.MeshBasicMaterial({ color: 0x469646, }),\n",
       "      new THREE.MeshBasicMaterial({ color: 0x469646, }),\n",
       "      new THREE.MeshBasicMaterial({ color: 0x469646, }),\n",
       "      new THREE.MeshBasicMaterial({ color: 0x469646, }),\n",
       "      new THREE.MeshBasicMaterial({ color: 0x469646, }),\n",
       "      new THREE.MeshBasicMaterial({ color: 0x469646, }),\n",
       "      new THREE.MeshBasicMaterial({ color: 0x469646, }),\n",
       "      new THREE.MeshBasicMaterial({ color: 0x469646, }),\n",
       "      new THREE.MeshBasicMaterial({ color: 0x469646, }),\n",
       "      new THREE.MeshBasicMaterial({ color: 0x469646, }),\n",
       "      new THREE.MeshBasicMaterial({ color: 0x469646, }),\n",
       "      new THREE.MeshBasicMaterial({ color: 0x469646, }),\n",
       "      new THREE.MeshBasicMaterial({ color: 0x469646, }),\n",
       "      new THREE.MeshBasicMaterial({ color: 0x469646, }),\n",
       "      new THREE.MeshBasicMaterial({ color: 0x469646, }),\n",
       "      new THREE.MeshBasicMaterial({ color: 0x469646, }),\n",
       "      new THREE.MeshBasicMaterial({ color: 0x469646, }),\n",
       "   ];\n",
       "   for (index = 0; index < materials.length; ++index) {\n",
       "      materials[index].side = THREE.DoubleSide;\n",
       "   }\n",
       "   var points_material = new THREE.MeshFaceMaterial ( materials );\n",
       "\n",
       "\n",
       "   <!-- POINTS -->\n",
       "   allpoints[0].makesphere(0.02,materials[0]);\n",
       "   allpoints[1].makesphere(0.02,materials[1]);\n",
       "   allpoints[2].makesphere(0.02,materials[2]);\n",
       "   allpoints[3].makesphere(0.02,materials[3]);\n",
       "   allpoints[4].makesphere(0.02,materials[4]);\n",
       "   allpoints[5].makesphere(0.02,materials[5]);\n",
       "   allpoints[6].makesphere(0.02,materials[6]);\n",
       "   allpoints[7].makesphere(0.02,materials[7]);\n",
       "   allpoints[8].makesphere(0.02,materials[8]);\n",
       "   allpoints[9].makesphere(0.02,materials[9]);\n",
       "   allpoints[10].makesphere(0.02,materials[10]);\n",
       "   allpoints[11].makesphere(0.02,materials[11]);\n",
       "   allpoints[12].makesphere(0.02,materials[12]);\n",
       "   allpoints[13].makesphere(0.02,materials[13]);\n",
       "   allpoints[14].makesphere(0.02,materials[14]);\n",
       "   allpoints[15].makesphere(0.02,materials[15]);\n",
       "   allpoints[16].makesphere(0.02,materials[16]);\n",
       "   allpoints[17].makesphere(0.02,materials[17]);\n",
       "   allpoints[18].makesphere(0.02,materials[18]);\n",
       "   allpoints[19].makesphere(0.02,materials[19]);\n",
       "   allpoints[20].makesphere(0.02,materials[20]);\n",
       "   allpoints[21].makesphere(0.02,materials[21]);\n",
       "   allpoints[22].makesphere(0.02,materials[22]);\n",
       "   allpoints[23].makesphere(0.02,materials[23]);\n",
       "   allpoints[24].makesphere(0.02,materials[24]);\n",
       "   allpoints[25].makesphere(0.02,materials[25]);\n",
       "   allpoints[26].makesphere(0.02,materials[26]);\n",
       "\n",
       "   for (index = 0; index < allpoints.length; ++index) {\n",
       "      allpoints[index].add(obj);\n",
       "   }\n",
       "   scene.add(obj);\n",
       "   all_objects.push(obj);\n",
       "\n",
       "// COMMON_CODE_BLOCK_BEGIN\n",
       "var xRotationEnabled = false;\n",
       "var yRotationEnabled = false;\n",
       "var zRotationEnabled = false;\n",
       "var rotationSpeedFactor = 1;\n",
       "var settingsShown = false;\n",
       "var labelsShown = true;\n",
       "var intervals = [];\n",
       "var timeouts = [];\n",
       "var explodingSpeed = 0.05;\n",
       "var explodeScale = 0;\n",
       "var XMLS = new XMLSerializer();\n",
       "var svgElement;\n",
       "var renderId;\n",
       "\n",
       "\tvar render = function () {\n",
       "\n",
       "\t\trenderId = requestAnimationFrame(render);\n",
       "\n",
       "//\t\tcomment in for automatic explosion\n",
       "//\t\texplode(updateFactor());\n",
       "\n",
       "\t\tvar phi = 0.02 * rotationSpeedFactor;\n",
       "\n",
       "\t\tif (xRotationEnabled){\n",
       "\t\t\tscene.rotation.x += phi;\n",
       "\t\t}\n",
       "\t\tif(yRotationEnabled){\n",
       "\t\t\tscene.rotation.y += phi;\n",
       "\t\t}\n",
       "\t\tif(zRotationEnabled){\n",
       "\t\t\tscene.rotation.z += phi;\n",
       "\t\t}\n",
       "\n",
       "\t\tcontrols.update();\n",
       "\t\trenderer.render(scene, camera);\n",
       "\t};\n",
       "\n",
       "\trender();\n",
       "\n",
       "\tfunction computeCentroid(geom) {\n",
       "\t\tcentroid = new THREE.Vector3();\n",
       "\t\tgeom.vertices.forEach(function(v) {\n",
       "\t\t\tcentroid.add(v);\t\t\t\n",
       "\t\t});\n",
       "\t\tcentroid.divideScalar(geom.vertices.length);\n",
       "\t\treturn centroid;\n",
       "\t}\n",
       "\n",
       "\tfunction changeTransparency(event){\n",
       "\t\tvar opacity = 1-Number(event.currentTarget.value);\n",
       "\t\tfor (var i=0; i<all_objects.length; i++){\n",
       "\t\t\tfor (var j=0; j<all_objects[i].children.length; j++){\n",
       "\t\t\t\tif (all_objects[i].children[j].material.type == \"MultiMaterial\") {\n",
       "\t\t\t\t\tfor (var k=0; k<all_objects[i].children[j].material.materials.length; k++){\n",
       "\t\t\t\t\t\tall_objects[i].children[j].material.materials[k].opacity = opacity;\n",
       "\t\t\t\t\t\tall_objects[i].children[j].material.materials[k].depthWrite = opacity < 0.5 ? false : true;\n",
       "\t\t\t\t\t\tall_objects[i].children[j].material.materials[k].depthTest = opacity < 0.5 ? false : true;\n",
       "\t\t\t\t\t}\n",
       "\t\t\t\t} else if (all_objects[i].children[j].material.transparent && \n",
       "\t\t\t\t\t\t\t  all_objects[i].children[j].material.type == \"MeshBasicMaterial\" &&\n",
       "\t\t\t\t\t\t\t  all_objects[i].children[j].geometry.type == \"Geometry\"){\n",
       "\t\t\t\t\tall_objects[i].children[j].material.opacity = opacity;\n",
       "\t\t\t\t\tall_objects[i].children[j].material.depthWrite = opacity < 0.5 ? false : true;\n",
       "\t\t\t\t\tall_objects[i].children[j].material.depthTest = opacity < 0.5 ? false : true;\n",
       "\t\t\t\t}\n",
       "\t\t\t}\n",
       "\t\t}\n",
       "\t}\n",
       "\n",
       "\tfunction changeRotationX(event){\n",
       "\t\txRotationEnabled = event.currentTarget.checked;\n",
       "\t}\t\n",
       "\n",
       "\tfunction changeRotationY(event){\n",
       "\t\tyRotationEnabled = event.currentTarget.checked;\n",
       "\t}\t\n",
       "\n",
       "\tfunction changeRotationZ(event){\n",
       "\t\tzRotationEnabled = event.currentTarget.checked;\n",
       "\t}\t\n",
       "\n",
       "\n",
       "\tfunction changeRotationSpeedFactor(event){\n",
       "\t\trotationSpeedFactor = Number(event.currentTarget.value);\n",
       "\t}\n",
       "\n",
       "\tfunction resetScene(){\n",
       "\t\tscene.rotation.set(0,0,0);\n",
       "\t\tcamera.position.set(0,0,5);\n",
       "\t\tcamera.up.set(0,1,0);\n",
       "\t}\n",
       "\n",
       "\tfunction showSettings(event){\n",
       "\t\tevent.currentTarget.style.display = 'none';\n",
       "\t\tdocument.getElementById('settings_0').style.position = 'absolute';\n",
       "\t\tdocument.getElementById('settings_0').style.display = 'block';\n",
       "\t\tdocument.getElementById('showSettingsButton_0').style.display = 'none';\n",
       "\t\tdocument.getElementById('hideSettingsButton_0').style.display = 'block';\n",
       "\t\tsettingsShown = true;\n",
       "\t}\n",
       "\n",
       "\tfunction hideSettings(event){\n",
       "\t\tevent.currentTarget.style.display = 'none';\n",
       "\t\tdocument.getElementById('settings_0').style.display = 'none';\n",
       "\t\tdocument.getElementById('hideSettingsButton_0').style.display = 'none';\n",
       "\t\tdocument.getElementById('showSettingsButton_0').style.display = 'block';\n",
       "\t\tsettingsShown = false;\n",
       "\t}\n",
       "\n",
       "\n",
       "\n",
       "\tvar pos = 150* Math.PI;\n",
       "\n",
       "\tfunction updateFactor() {\n",
       "\t\tpos++;\n",
       "\t\treturn Math.sin(.01*pos)+1;\n",
       "\t}\n",
       "\n",
       "\tfunction makelabel(message, x, y, z, params) {\n",
       "\t\tvar spritey = textSprite( message, params );\n",
       "\t\tspritey.position.set(x, y, z);\n",
       "\t\tobj.add(spritey);\n",
       "\t}\n",
       "\n",
       "\tfunction textSprite(message, parameters)\n",
       "\t{\n",
       "\t\tif ( parameters === undefined ) parameters = {};\n",
       "\n",
       "\t\tvar fontface = \"Helvetica\";\n",
       "\n",
       "\t\tvar fontsize = parameters.hasOwnProperty(\"fontsize\") ? \n",
       "\t\t\tparameters[\"fontsize\"] : 18;\n",
       "\t\tfontsize = fontsize*10;\n",
       "\n",
       "\t\tvar canvas = document.createElement('canvas');\n",
       "\t\tvar size = 1024;\n",
       "\t\tcanvas.width = size;\n",
       "\t\tcanvas.height = size;\n",
       "\t\tvar context = canvas.getContext('2d');\n",
       "\t\tcontext.font = fontsize + \"px \" + fontface;\n",
       "\n",
       "\t\t// text color\n",
       "\t\tcontext.fillStyle = \"rgba(0, 0, 0, 1.0)\";\n",
       "\n",
       "\t\tcontext.fillText(message, size/2, size/2);\n",
       "\n",
       "\t\t// canvas contents will be used for a texture\n",
       "\t\tvar texture = new THREE.Texture(canvas);\n",
       "\t\ttexture.needsUpdate = true;\n",
       "\n",
       "\t\tvar spriteMaterial = new THREE.SpriteMaterial(\n",
       "\t\t\t{map: texture, useScreenCoordinates: false});\n",
       "\t\tvar sprite = new THREE.Sprite(spriteMaterial);\n",
       "\t\treturn sprite;\n",
       "\t}\n",
       "\n",
       "\tfunction takeSvgScreenshot(){\n",
       "\t\tif (labelsShown){\n",
       "\t\t\thideLabels();\n",
       "\t\t}\n",
       "\t\tsvgRenderer.render(scene,camera);\n",
       "\t\tsvgElement = XMLS.serializeToString(svgRenderer.domElement);\n",
       "\t\t\n",
       "\t\tif (labelsShown){\n",
       "\t\t\tdisplayLabels();\n",
       "\t\t}\n",
       "\n",
       "\t\tif (document.getElementById('tab_0').checked){\n",
       "\t\t\t//show in new tab\n",
       "\t\t\tvar myWindow = window.open(\"\",\"\");\n",
       "\t\t\tmyWindow.document.body.innerHTML = svgElement;\n",
       "\t\t} else{\n",
       "\t\t\t// download svg file \n",
       "\t\t\tdownload(\"screenshot.svg\", svgElement);\n",
       "\t\t}\n",
       "\t}\n",
       "\t\t\n",
       "\n",
       "\tfunction showOrHideObject(event){\n",
       "\t\tvar nr = Number(event.currentTarget.name);\n",
       "\t\tall_objects[nr].visible = event.currentTarget.checked;\n",
       "\t}\n",
       "\n",
       "\tfunction displayOrHideOptionsRecursive( obj ) {\n",
       "\t\tfor (var j=0; j<obj.children.length; j++) {\n",
       "\t\t\tvar child = obj.children[j];\n",
       "\t\t\tif (child.material===undefined && child) {\n",
       "\t\t\t\tdisplayOrHideOptionsRecursive( child );\n",
       "\t\t\t} else {\n",
       "\t\t\t\tif (child.material.type == \"MultiMaterial\") {\n",
       "\t\t\t\t\tfor (var k=0; k<child.material.materials.length; k++) {\n",
       "\t\t\t\t\t\tif (child.material.materials[k].transparent) {\n",
       "\t\t\t\t\t\t\tdocument.getElementById('transparency_0').style.display = 'block';\n",
       "\t\t\t\t\t\t\tdocument.getElementById('transparencyRange_0').value = 1 - \n",
       "\t\t\t\t\t\t\t\tchild.material.materials[k].opacity;\n",
       "\t\t\t\t\t\t\treturn;\n",
       "\t\t\t\t\t\t}\n",
       "\t\t\t\t\t}\n",
       "\t\t\t\t} else if (\tchild.material.transparent && \n",
       "\t\t\t\t\t\t\t\tchild.material.type == \"MeshBasicMaterial\" &&\n",
       "\t\t\t\t\t\t\t\tchild.geometry.type == \"Geometry\"){\n",
       "\t\t\t\t\tdocument.getElementById('transparency_0').style.display = 'block';\n",
       "\t\t\t\t\treturn;\n",
       "\t\t\t\t}\n",
       "\t\t\t}\n",
       "\t\t}\n",
       "\t}\n",
       "\n",
       "\tfunction displayOrHideOptions() {\n",
       "\t\tfor (var i=0; i<all_objects.length; i++) {\n",
       "\t\t\tvar obj = all_objects[i];\n",
       "\t\t\tdisplayOrHideOptionsRecursive( obj );\n",
       "\t\t}\n",
       "\t}\n",
       "\n",
       "\tdisplayOrHideOptions()\n",
       "\n",
       "\n",
       "\n",
       "\n",
       "// ---------------------- EXPLOSION ------------------------------------------------\n",
       "// ---------------------------------------------------------------------------------\n",
       "\n",
       "\tfunction explode(factor) {\n",
       "\t\tvar obj, c;\n",
       "\t\tvar c0 = centroids[0];\n",
       "\t\tfor (var i = 0; i<centroids.length; ++i) {\n",
       "\t\t\tc = centroids[i];\n",
       "\t\t\tobj = all_objects[all_objects.length - centroids.length + i];\n",
       "\t\t\tobj.position.set(c.x*factor, c.y*factor, c.z*factor);\n",
       "\t\t}\t\n",
       "\t}\n",
       "\n",
       "\tfunction triggerExplode(event){\n",
       "\t\texplodeScale = Number(event.currentTarget.value);\n",
       "\t\texplode(explodeScale);\n",
       "\t}\n",
       "\n",
       "\tfunction setExplodingSpeed(event){\n",
       "\t\texplodingSpeed = Number(event.currentTarget.value);\n",
       "\t}\n",
       "\n",
       "\tfunction triggerAutomaticExplode(event){\n",
       "\t\tif (event.currentTarget.checked){\n",
       "\t\t\tstartExploding();\n",
       "\t\t} else {\n",
       "\t\t\tclearIntervals();\n",
       "\t\t}\t\n",
       "\t}\n",
       "\n",
       "\tfunction startExploding(){\n",
       "\t\tintervals.push(setInterval(explodingInterval, 25));\n",
       "\t}\n",
       "\n",
       "\n",
       "\tfunction explodingInterval(){\n",
       "\t\texplodeScale += explodingSpeed;\n",
       "\t\tif (explodeScale <= 6){ \n",
       "\t\t\texplode(explodeScale);\n",
       "\t\t}\n",
       "\t\telse{\n",
       "\t\t\texplode(6);\n",
       "\t\t\texplodeScale = 6;\n",
       "\t\t\tclearIntervals();\n",
       "\t\t\ttimeouts.push(setTimeout(startUnexploding, 3000));\n",
       "\t\t}\n",
       "\t\tdocument.getElementById('explodeRange_0').value = explodeScale;\n",
       "\t}\n",
       "\n",
       "\n",
       "\tfunction startUnexploding(){\n",
       "\t\tintervals.push(setInterval(unexplodingInterval, 25));\n",
       "\t}\n",
       "\n",
       "\tfunction unexplodingInterval(){\n",
       "\t\texplodeScale -= explodingSpeed;\n",
       "\t\tif (explodeScale >= 0){\t\n",
       "\t\t\texplode(explodeScale);\n",
       "\t\t}\n",
       "\t\telse {\n",
       "\t\t\texplode(0);\n",
       "\t\t\texplodeScale = 0;\n",
       "\t\t\tclearIntervals();\n",
       "\t\t\ttimeouts.push(setTimeout(startExploding, 3000));\n",
       "\t\t}\n",
       "\t\tdocument.getElementById('explodeRange_0').value = explodeScale;\n",
       "\t}\n",
       "\n",
       "\tfunction clearIntervals(){\n",
       "\t\tintervals.forEach(function(interval){\n",
       "\t\t\tclearInterval(interval);\n",
       "\t\t});\n",
       "\t\tintervals = [];\n",
       "\t\ttimeouts.forEach(function(timeout){\n",
       "\t\t\tclearTimeout(timeout);\n",
       "\t\t});\n",
       "\t\ttimeouts = [];\n",
       "\t}\n",
       "\n",
       "\t\t\t\n",
       "\n",
       "\t// append checkboxes for displaying or hiding objects\n",
       "\tvar shownObjectsList = document.getElementById('shownObjectsList_0');\n",
       "\tfor (var i=0; i<all_objects.length; i++){\n",
       "\t\tvar objNode = document.createElement('span');\n",
       "\t\tobjNode.innerHTML = objectnames[i] + '<br>';\n",
       "\t\tvar checkbox = document.createElement('input');\n",
       "\t\tcheckbox.type = 'checkbox';\n",
       "\t\tcheckbox.checked = true;\n",
       "\t\tcheckbox.name = String(i);\n",
       "\t\tcheckbox.onchange = showOrHideObject;\n",
       "\t\tshownObjectsList.appendChild(checkbox);\n",
       "\t\tshownObjectsList.appendChild(objNode);\n",
       "\t}\n",
       "\n",
       "\tfunction displayLabels(){\n",
       "\t\tfor (var i=0; i<all_objects.length; i++){\n",
       "\t\t\tfor (var j=0; j<all_objects[i].children.length; j++){\n",
       "\t\t\t\tvar child = all_objects[i].children[j];\n",
       "\t\t\t\tif (child.type == 'Sprite'){\n",
       "\t\t\t\t\tchild.visible = true;\n",
       "\t\t\t\t}\n",
       "\t\t\t}\n",
       "\t\t}\n",
       "\t}\n",
       "\n",
       "\tfunction hideLabels(){\n",
       "\t\tfor (var i=0; i<all_objects.length; i++){\n",
       "\t\t\tfor (var j=0; j<all_objects[i].children.length; j++){\n",
       "\t\t\t\tvar child = all_objects[i].children[j];\n",
       "\t\t\t\tif (child.type == 'Sprite'){\n",
       "\t\t\t\t\tchild.visible = false;\n",
       "\t\t\t\t}\n",
       "\t\t\t}\n",
       "\t\t}\n",
       "\t}\n",
       "\n",
       "\tfunction displayOrHideLabels(event){\n",
       "\t\tif (event.currentTarget.checked){\n",
       "\t\t\tdisplayLabels();\n",
       "\t\t\tlabelsShown = true;\n",
       "\t\t} else {\n",
       "\t\t\thideLabels();\n",
       "\t\t\tlabelsShown = false;\n",
       "\t\t}\n",
       "\t}\n",
       "\n",
       "\tfunction download(filename, text) {\n",
       "\t  var element = document.createElement('a');\n",
       "\t  element.setAttribute('href', 'data:text/plain;charset=utf-8,' + encodeURIComponent(text));\n",
       "\t  element.setAttribute('download', filename);\n",
       "\n",
       "\t  element.style.display = 'none';\n",
       "\t  document.body.appendChild(element);\n",
       "\n",
       "\t  element.click();\n",
       "\n",
       "\t  document.body.removeChild(element);\n",
       "\t}\n",
       "\n",
       "var tempobj;\n",
       "tempobj = document.getElementById('explodeRange_0');\n",
       "if (tempobj) {\n",
       "   tempobj.oninput = triggerExplode;\n",
       "   document.getElementById('explodeCheckbox_0').onchange = triggerAutomaticExplode;\n",
       "   document.getElementById('explodingSpeedRange_0').oninput = setExplodingSpeed;\n",
       "}\n",
       "tempobj = document.getElementById('foldRange_0');\n",
       "if (tempobj) {\n",
       "   tempobj.oninput = fold;\n",
       "}\n",
       "document.getElementById('transparencyRange_0').oninput = changeTransparency;\n",
       "document.getElementById('changeRotationX_0').onchange = changeRotationX;\n",
       "document.getElementById('changeRotationY_0').onchange = changeRotationY;\n",
       "document.getElementById('changeRotationZ_0').onchange = changeRotationZ;\n",
       "document.getElementById('resetButton_0').onclick = resetScene;\n",
       "document.getElementById('rotationSpeedRange_0').oninput = changeRotationSpeedFactor;\n",
       "document.getElementById('labelsCheckboxInput_0').onchange = displayOrHideLabels;\n",
       "document.getElementById('takeScreenshot_0').onclick = takeSvgScreenshot;\n",
       "document.getElementById('showSettingsButton_0').onclick = showSettings;\n",
       "document.getElementById('hideSettingsButton_0').onclick = hideSettings;\n",
       "\n",
       "\t\n",
       "\n",
       "// ------------------ SHORTCUTS --------------------------------------------\n",
       "// -------------------------------------------------------------------------\n",
       "\n",
       "/**\n",
       " * http://www.openjs.com/scripts/events/keyboard_shortcuts/\n",
       " * Version : 2.01.B\n",
       " * By Binny V A\n",
       " * License : BSD\n",
       " */\n",
       "shortcut = {\n",
       "\t'all_shortcuts':{},//All the shortcuts are stored in this array\n",
       "\t'add': function(shortcut_combination,callback,opt) {\n",
       "\t\t//Provide a set of default options\n",
       "\t\tvar default_options = {\n",
       "\t\t\t'type':'keydown',\n",
       "\t\t\t'propagate':false,\n",
       "\t\t\t'disable_in_input':false,\n",
       "\t\t\t'target':document,\n",
       "\t\t\t'keycode':false\n",
       "\t\t}\n",
       "\t\tif(!opt) opt = default_options;\n",
       "\t\telse {\n",
       "\t\t\tfor(var dfo in default_options) {\n",
       "\t\t\t\tif(typeof opt[dfo] == 'undefined') opt[dfo] = default_options[dfo];\n",
       "\t\t\t}\n",
       "\t\t}\n",
       "\n",
       "\t\tvar ele = opt.target;\n",
       "\t\tif(typeof opt.target == 'string') ele = document.getElementById(opt.target);\n",
       "\t\tvar ths = this;\n",
       "\t\tshortcut_combination = shortcut_combination.toLowerCase();\n",
       "\n",
       "\t\t//The function to be called at keypress\n",
       "\t\tvar func = function(e) {\n",
       "\t\t\te = e || window.event;\n",
       "\t\t\t\n",
       "\t\t\tif(opt['disable_in_input']) { //Don't enable shortcut keys in Input, Textarea fields\n",
       "\t\t\t\tvar element;\n",
       "\t\t\t\tif(e.target) element=e.target;\n",
       "\t\t\t\telse if(e.srcElement) element=e.srcElement;\n",
       "\t\t\t\tif(element.nodeType==3) element=element.parentNode;\n",
       "\n",
       "\t\t\t\tif(element.tagName == 'INPUT' || element.tagName == 'TEXTAREA') return;\n",
       "\t\t\t}\n",
       "\t\n",
       "\t\t\t//Find Which key is pressed\n",
       "\t\t\tif (e.keyCode) code = e.keyCode;\n",
       "\t\t\telse if (e.which) code = e.which;\n",
       "\t\t\tvar character = String.fromCharCode(code).toLowerCase();\n",
       "\t\t\t\n",
       "\t\t\tif(code == 188) character=\",\"; //If the user presses , when the type is onkeydown\n",
       "\t\t\tif(code == 190) character=\".\"; //If the user presses , when the type is onkeydown\n",
       "\n",
       "\t\t\tvar keys = shortcut_combination.split(\"+\");\n",
       "\t\t\t//Key Pressed - counts the number of valid keypresses - if it is same as the number of keys, the shortcut function is invoked\n",
       "\t\t\tvar kp = 0;\n",
       "\t\t\t\n",
       "\t\t\t//Work around for stupid Shift key bug created by using lowercase - as a result the shift+num combination was broken\n",
       "\t\t\tvar shift_nums = {\n",
       "\t\t\t\t\"`\":\"~\",\n",
       "\t\t\t\t\"1\":\"!\",\n",
       "\t\t\t\t\"2\":\"@\",\n",
       "\t\t\t\t\"3\":\"#\",\n",
       "\t\t\t\t\"4\":\"$\",\n",
       "\t\t\t\t\"5\":\"%\",\n",
       "\t\t\t\t\"6\":\"^\",\n",
       "\t\t\t\t\"7\":\"&\",\n",
       "\t\t\t\t\"8\":\"*\",\n",
       "\t\t\t\t\"9\":\"(\",\n",
       "\t\t\t\t\"0\":\")\",\n",
       "\t\t\t\t\"-\":\"_\",\n",
       "\t\t\t\t\"=\":\"+\",\n",
       "\t\t\t\t\";\":\":\",\n",
       "\t\t\t\t\"'\":\"\\\"\",\n",
       "\t\t\t\t\",\":\"<\",\n",
       "\t\t\t\t\".\":\">\",\n",
       "\t\t\t\t\"/\":\"?\",\n",
       "\t\t\t\t\"\\\\\":\"|\"\n",
       "\t\t\t}\n",
       "\t\t\t//Special Keys - and their codes\n",
       "\t\t\tvar special_keys = {\n",
       "\t\t\t\t'esc':27,\n",
       "\t\t\t\t'escape':27,\n",
       "\t\t\t\t'tab':9,\n",
       "\t\t\t\t'space':32,\n",
       "\t\t\t\t'return':13,\n",
       "\t\t\t\t'enter':13,\n",
       "\t\t\t\t'backspace':8,\n",
       "\t\n",
       "\t\t\t\t'scrolllock':145,\n",
       "\t\t\t\t'scroll_lock':145,\n",
       "\t\t\t\t'scroll':145,\n",
       "\t\t\t\t'capslock':20,\n",
       "\t\t\t\t'caps_lock':20,\n",
       "\t\t\t\t'caps':20,\n",
       "\t\t\t\t'numlock':144,\n",
       "\t\t\t\t'num_lock':144,\n",
       "\t\t\t\t'num':144,\n",
       "\t\t\t\t\n",
       "\t\t\t\t'pause':19,\n",
       "\t\t\t\t'break':19,\n",
       "\t\t\t\t\n",
       "\t\t\t\t'insert':45,\n",
       "\t\t\t\t'home':36,\n",
       "\t\t\t\t'delete':46,\n",
       "\t\t\t\t'end':35,\n",
       "\t\t\t\t\n",
       "\t\t\t\t'pageup':33,\n",
       "\t\t\t\t'page_up':33,\n",
       "\t\t\t\t'pu':33,\n",
       "\t\n",
       "\t\t\t\t'pagedown':34,\n",
       "\t\t\t\t'page_down':34,\n",
       "\t\t\t\t'pd':34,\n",
       "\t\n",
       "\t\t\t\t'left':37,\n",
       "\t\t\t\t'up':38,\n",
       "\t\t\t\t'right':39,\n",
       "\t\t\t\t'down':40,\n",
       "\t\n",
       "\t\t\t\t'f1':112,\n",
       "\t\t\t\t'f2':113,\n",
       "\t\t\t\t'f3':114,\n",
       "\t\t\t\t'f4':115,\n",
       "\t\t\t\t'f5':116,\n",
       "\t\t\t\t'f6':117,\n",
       "\t\t\t\t'f7':118,\n",
       "\t\t\t\t'f8':119,\n",
       "\t\t\t\t'f9':120,\n",
       "\t\t\t\t'f10':121,\n",
       "\t\t\t\t'f11':122,\n",
       "\t\t\t\t'f12':123\n",
       "\t\t\t}\n",
       "\t\n",
       "\t\t\tvar modifiers = { \n",
       "\t\t\t\tshift: { wanted:false, pressed:false},\n",
       "\t\t\t\tctrl : { wanted:false, pressed:false},\n",
       "\t\t\t\talt  : { wanted:false, pressed:false},\n",
       "\t\t\t\tmeta : { wanted:false, pressed:false}\t//Meta is Mac specific\n",
       "\t\t\t};\n",
       "                        \n",
       "\t\t\tif(e.ctrlKey)\tmodifiers.ctrl.pressed = true;\n",
       "\t\t\tif(e.shiftKey)\tmodifiers.shift.pressed = true;\n",
       "\t\t\tif(e.altKey)\tmodifiers.alt.pressed = true;\n",
       "\t\t\tif(e.metaKey)   modifiers.meta.pressed = true;\n",
       "                        \n",
       "\t\t\tfor(var i=0; k=keys[i],i<keys.length; i++) {\n",
       "\t\t\t\t//Modifiers\n",
       "\t\t\t\tif(k == 'ctrl' || k == 'control') {\n",
       "\t\t\t\t\tkp++;\n",
       "\t\t\t\t\tmodifiers.ctrl.wanted = true;\n",
       "\n",
       "\t\t\t\t} else if(k == 'shift') {\n",
       "\t\t\t\t\tkp++;\n",
       "\t\t\t\t\tmodifiers.shift.wanted = true;\n",
       "\n",
       "\t\t\t\t} else if(k == 'alt') {\n",
       "\t\t\t\t\tkp++;\n",
       "\t\t\t\t\tmodifiers.alt.wanted = true;\n",
       "\t\t\t\t} else if(k == 'meta') {\n",
       "\t\t\t\t\tkp++;\n",
       "\t\t\t\t\tmodifiers.meta.wanted = true;\n",
       "\t\t\t\t} else if(k.length > 1) { //If it is a special key\n",
       "\t\t\t\t\tif(special_keys[k] == code) kp++;\n",
       "\t\t\t\t\t\n",
       "\t\t\t\t} else if(opt['keycode']) {\n",
       "\t\t\t\t\tif(opt['keycode'] == code) kp++;\n",
       "\n",
       "\t\t\t\t} else { //The special keys did not match\n",
       "\t\t\t\t\tif(character == k) kp++;\n",
       "\t\t\t\t\telse {\n",
       "\t\t\t\t\t\tif(shift_nums[character] && e.shiftKey) { //Stupid Shift key bug created by using lowercase\n",
       "\t\t\t\t\t\t\tcharacter = shift_nums[character]; \n",
       "\t\t\t\t\t\t\tif(character == k) kp++;\n",
       "\t\t\t\t\t\t}\n",
       "\t\t\t\t\t}\n",
       "\t\t\t\t}\n",
       "\t\t\t}\n",
       "\t\t\t\n",
       "\t\t\tif(kp == keys.length && \n",
       "\t\t\t\t\t\tmodifiers.ctrl.pressed == modifiers.ctrl.wanted &&\n",
       "\t\t\t\t\t\tmodifiers.shift.pressed == modifiers.shift.wanted &&\n",
       "\t\t\t\t\t\tmodifiers.alt.pressed == modifiers.alt.wanted &&\n",
       "\t\t\t\t\t\tmodifiers.meta.pressed == modifiers.meta.wanted) {\n",
       "\t\t\t\tcallback(e);\n",
       "\t\n",
       "\t\t\t\tif(!opt['propagate']) { //Stop the event\n",
       "\t\t\t\t\t//e.cancelBubble is supported by IE - this will kill the bubbling process.\n",
       "\t\t\t\t\te.cancelBubble = true;\n",
       "\t\t\t\t\te.returnValue = false;\n",
       "\t\n",
       "\t\t\t\t\t//e.stopPropagation works in Firefox.\n",
       "\t\t\t\t\tif (e.stopPropagation) {\n",
       "\t\t\t\t\t\te.stopPropagation();\n",
       "\t\t\t\t\t\te.preventDefault();\n",
       "\t\t\t\t\t}\n",
       "\t\t\t\t\treturn false;\n",
       "\t\t\t\t}\n",
       "\t\t\t}\n",
       "\t\t}\n",
       "\t\tthis.all_shortcuts[shortcut_combination] = {\n",
       "\t\t\t'callback':func, \n",
       "\t\t\t'target':ele, \n",
       "\t\t\t'event': opt['type']\n",
       "\t\t};\n",
       "\t\t//Attach the function with the event\n",
       "\t\tif(ele.addEventListener) ele.addEventListener(opt['type'], func, false);\n",
       "\t\telse if(ele.attachEvent) ele.attachEvent('on'+opt['type'], func);\n",
       "\t\telse ele['on'+opt['type']] = func;\n",
       "\t},\n",
       "\n",
       "\t//Remove the shortcut - just specify the shortcut and I will remove the binding\n",
       "\t'remove':function(shortcut_combination) {\n",
       "\t\tshortcut_combination = shortcut_combination.toLowerCase();\n",
       "\t\tvar binding = this.all_shortcuts[shortcut_combination];\n",
       "\t\tdelete(this.all_shortcuts[shortcut_combination])\n",
       "\t\tif(!binding) return;\n",
       "\t\tvar type = binding['event'];\n",
       "\t\tvar ele = binding['target'];\n",
       "\t\tvar callback = binding['callback'];\n",
       "\n",
       "\t\tif(ele.detachEvent) ele.detachEvent('on'+type, callback);\n",
       "\t\telse if(ele.removeEventListener) ele.removeEventListener(type, callback, false);\n",
       "\t\telse ele['on'+type] = false;\n",
       "\t}\n",
       "}\n",
       "\n",
       "shortcut.add(\"Alt+Left\",function() {\n",
       "\tvar event = new Event('click');\n",
       "\tif (settingsShown){\n",
       "\t\tdocument.getElementById('hideSettingsButton_0').dispatchEvent(event);\n",
       "\t} else{\n",
       "\t\tdocument.getElementById('showSettingsButton_0').dispatchEvent(event);\n",
       "\t}\n",
       "});\n",
       "\n",
       "if (foldable) moveToBaryCenter();\n",
       "\n",
       "\n",
       "});});\n",
       "// COMMON_CODE_BLOCK_END\n",
       "</script>\n",
       "\n",
       "</body>\n",
       "</html>"
      ]
     },
     "metadata": {},
     "output_type": "display_data"
    },
    {
     "data": {
      "text/html": [
       "<details><summary><pre style=\"display:inline\"><small>Click here for additional output</small></pre></summary>\n",
       "<pre>\n",
       "polymake: used package threejs\n",
       "   Three.js is a lightweight cross-browser JavaScript library/API used to create and display animated 3D computer graphics on a Web browser.\n",
       "   See http://github.com/mrdoob for the source code.\n",
       "\n",
       "</pre>\n",
       "</details>\n"
      ]
     },
     "metadata": {},
     "output_type": "display_data"
    }
   ],
   "source": [
    "$p->VISUAL->LATTICE_COLORED;"
   ]
  },
  {
   "cell_type": "markdown",
   "metadata": {},
   "source": [
    "The command `LATTICE_COLORED` sorted the lattice points into three classes before visualization: lattice points in the interior of the polytope, lattice points on the boundary, and vertices that are not in the lattice. These classes are then visualized with different colors (where we only see two in the above picture, as all vertices of the cube are in the lattice). If you don't need this distinction, `VISUAL->LATTICE` avoids the additional computations. \n",
    "\n",
    "## External Packages\n",
    "\n",
    "`polymake` can use `4ti2` and `lattE` via a file based interface and `libnormaliz >= 3.1.0` as library, (the file based interface to `normaliz` has been discontinued) for lattice computations and prints all available packages during startup. To tell `polymake` about a newly installed program run `polymake --reconfigure` or issue the command `reconfigure` during the interactive session.  polymake may ask you to confirm the paths to the binaries.\n",
    "\n",
    "    \n",
    "    Application polytope uses following third-party software (for details: help 'credits';)\n",
    "    4ti2, cddlib, latte, libnormaliz, lrslib, nauty\n",
    "\n",
    "\n",
    "The output at this position depends on the software available on your computer. To see each call to an external program you can either set the variable `$Verbose::external=1;` in the `polymake` shell or  include the line `$Polymake::User::Verbose::external=1` in `~/.polymake/prefer.pl`. If you just want to see the credit message instead of the program call, set `$Verbose::credits=2` instead. If this is 1, then a credit is shown when a package is used for the first time, if 0, then all credits are suppressed (but you can find them in the file afterwards).\n",
    "\n",
    "    "
   ]
  },
  {
   "cell_type": "code",
   "execution_count": 37,
   "metadata": {},
   "outputs": [],
   "source": [
    "$Verbose::external=1;"
   ]
  },
  {
   "cell_type": "code",
   "execution_count": 38,
   "metadata": {},
   "outputs": [
    {
     "data": {
      "text/plain": [
       "8*x^3 + 12*x^2 + 6*x + 1"
      ]
     },
     "execution_count": 38,
     "metadata": {},
     "output_type": "execute_result"
    }
   ],
   "source": [
    "print $p->EHRHART_POLYNOMIAL;"
   ]
  },
  {
   "cell_type": "markdown",
   "metadata": {},
   "source": [
    "\n",
    "You can ask `polymake` to prefer one package over another by setting `prefer \"program\";` where program is one of `_4ti2`, `latte` and `normaliz2`. Of course, the corresponding package needs to be installed on your computer.\n",
    "\n",
    "\n",
    "To prefer one program only for some computations you may append one of .integer_points, .hilbert, .ehrhartpoly for rules computing N_LATTICE_POINTS, LATTICE_POINTS, HILBERT_BASIS or EHRHART_POLYNOMIAL. (Or `prefer_now` just for the next computation)\n",
    "\n",
    "    \n"
   ]
  },
  {
   "cell_type": "code",
   "execution_count": 39,
   "metadata": {},
   "outputs": [
    {
     "data": {
      "text/plain": [
       "9"
      ]
     },
     "execution_count": 39,
     "metadata": {},
     "output_type": "execute_result"
    }
   ],
   "source": [
    "print cube(2)->N_LATTICE_POINTS;"
   ]
  },
  {
   "cell_type": "code",
   "execution_count": 40,
   "metadata": {},
   "outputs": [
    {
     "data": {
      "text/plain": [
       "9"
      ]
     },
     "execution_count": 40,
     "metadata": {},
     "output_type": "execute_result"
    }
   ],
   "source": [
    "prefer_now \"libnormaliz\";\n",
    "print cube(2)->N_LATTICE_POINTS;"
   ]
  },
  {
   "cell_type": "code",
   "execution_count": 41,
   "metadata": {},
   "outputs": [
    {
     "data": {
      "text/plain": [
       "4*x^2 + 4*x + 1"
      ]
     },
     "execution_count": 41,
     "metadata": {},
     "output_type": "execute_result"
    }
   ],
   "source": [
    "print cube(2)->EHRHART_POLYNOMIAL;"
   ]
  }
 ],
 "metadata": {
  "kernelspec": {
   "display_name": "polymake",
   "language": "polymake",
   "name": "polymake"
  },
  "language_info": {
   "codemirror_mode": "perl",
   "file_extension": ".pl",
   "mimetype": "text/x-polymake",
   "name": "polymake"
  }
 },
 "nbformat": 4,
 "nbformat_minor": 2
}
